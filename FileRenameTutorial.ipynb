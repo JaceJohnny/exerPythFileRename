{
 "cells": [
  {
   "cell_type": "code",
   "execution_count": 80,
   "id": "05b228f8",
   "metadata": {},
   "outputs": [],
   "source": [
    "import os"
   ]
  },
  {
   "cell_type": "code",
   "execution_count": 81,
   "id": "1318cbd4",
   "metadata": {},
   "outputs": [],
   "source": [
    "os.chdir('/Users/jaced/desktop/N6806/Week 4/exerPythFileRename/Planets')"
   ]
  },
  {
   "cell_type": "code",
   "execution_count": 82,
   "id": "dec424ab",
   "metadata": {},
   "outputs": [
    {
     "name": "stdout",
     "output_type": "stream",
     "text": [
      "C:\\Users\\jaced\\desktop\\N6806\\Week 4\\exerPythFileRename\\Planets\n"
     ]
    }
   ],
   "source": [
    "print(os.getcwd())"
   ]
  },
  {
   "cell_type": "code",
   "execution_count": 84,
   "id": "10b59f3b",
   "metadata": {},
   "outputs": [
    {
     "name": "stdout",
     "output_type": "stream",
     "text": [
      "Mars - Our solar system -#5.txt\n",
      "Mercury - Our solar system -#2.txt\n",
      "Neptune - Our solar system -#8.txt\n",
      "Pluto - Our solar system -#10.txt\n",
      "Saturn - Our solar system -#7.txt\n",
      "The Sun - Our solar system -#1.txt\n",
      "Uranus - Our solar system -#9.txt\n",
      "Venus - Our solar system -#3.txt\n"
     ]
    }
   ],
   "source": [
    "for f in os.listdir():\n",
    "    print (f)"
   ]
  },
  {
   "cell_type": "code",
   "execution_count": 85,
   "id": "dcfdb5ba",
   "metadata": {},
   "outputs": [
    {
     "name": "stdout",
     "output_type": "stream",
     "text": [
      "('Mars - Our solar system -#5', '.txt')\n",
      "('Mercury - Our solar system -#2', '.txt')\n",
      "('Neptune - Our solar system -#8', '.txt')\n",
      "('Pluto - Our solar system -#10', '.txt')\n",
      "('Saturn - Our solar system -#7', '.txt')\n",
      "('The Sun - Our solar system -#1', '.txt')\n",
      "('Uranus - Our solar system -#9', '.txt')\n",
      "('Venus - Our solar system -#3', '.txt')\n"
     ]
    }
   ],
   "source": [
    "for f in os.listdir():\n",
    "    print(os.path.splitext(f))"
   ]
  },
  {
   "cell_type": "code",
   "execution_count": 86,
   "id": "62203abc",
   "metadata": {},
   "outputs": [
    {
     "name": "stdout",
     "output_type": "stream",
     "text": [
      "Mars \n",
      "Mercury \n",
      "Neptune \n",
      "Pluto \n",
      "Saturn \n",
      "The Sun \n",
      "Uranus \n",
      "Venus \n"
     ]
    }
   ],
   "source": [
    "for f in os.listdir():\n",
    "    file_name, file_ext = os.path.splitext(f)\n",
    "    \n",
    "    f_title, f_course, f_num = (file_name.split('-'))\n",
    "    print (f_title)"
   ]
  },
  {
   "cell_type": "code",
   "execution_count": 87,
   "id": "ba8b5f03",
   "metadata": {},
   "outputs": [
    {
     "name": "stdout",
     "output_type": "stream",
     "text": [
      " Our solar system \n",
      " Our solar system \n",
      " Our solar system \n",
      " Our solar system \n",
      " Our solar system \n",
      " Our solar system \n",
      " Our solar system \n",
      " Our solar system \n"
     ]
    }
   ],
   "source": [
    "for f in os.listdir():\n",
    "    file_name, file_ext = os.path.splitext(f) \n",
    "    \n",
    "    f_title, f_course, f_num = file_name.split('-')\n",
    "    print(f_course)"
   ]
  },
  {
   "cell_type": "code",
   "execution_count": 88,
   "id": "24127243",
   "metadata": {},
   "outputs": [
    {
     "name": "stdout",
     "output_type": "stream",
     "text": [
      "#5\n",
      "#2\n",
      "#8\n",
      "#10\n",
      "#7\n",
      "#1\n",
      "#9\n",
      "#3\n"
     ]
    }
   ],
   "source": [
    "for f in os.listdir():\n",
    "    file_name, file_ext = os.path.splitext(f) \n",
    "    \n",
    "    f_title, f_course, f_num = file_name.split('-')\n",
    "    print (f_num)"
   ]
  },
  {
   "cell_type": "code",
   "execution_count": 89,
   "id": "840adc23",
   "metadata": {},
   "outputs": [
    {
     "name": "stdout",
     "output_type": "stream",
     "text": [
      "Mars \n",
      "Mercury \n",
      "Neptune \n",
      "Pluto \n",
      "Saturn \n",
      "The Sun \n",
      "Uranus \n",
      "Venus \n"
     ]
    }
   ],
   "source": [
    "for f in os.listdir():\n",
    "    file_name, file_ext = os.path.splitext(f) \n",
    "    \n",
    "    f_title, f_course, f_num = file_name.split('-')\n",
    "    print (f_title)"
   ]
  },
  {
   "cell_type": "code",
   "execution_count": 90,
   "id": "6eb5fe62",
   "metadata": {},
   "outputs": [
    {
     "name": "stdout",
     "output_type": "stream",
     "text": [
      "05-Our solar system-Mars.txt\n",
      "02-Our solar system-Mercury.txt\n",
      "08-Our solar system-Neptune.txt\n",
      "10-Our solar system-Pluto.txt\n",
      "07-Our solar system-Saturn.txt\n",
      "01-Our solar system-The Sun.txt\n",
      "09-Our solar system-Uranus.txt\n",
      "03-Our solar system-Venus.txt\n"
     ]
    }
   ],
   "source": [
    "for f in os.listdir():\n",
    "    file_name, file_ext = os.path.splitext(f) \n",
    "    \n",
    "    f_title, f_course, f_num = file_name.split('-')\n",
    "    \n",
    "    f_title = f_title.strip()\n",
    "    f_course = f_course.strip()\n",
    "    f_num = f_num.strip()[1:].zfill(2)\n",
    "    \n",
    "    print ('{}-{}-{}{}'.format(f_num, f_course, f_title, f_ext))"
   ]
  },
  {
   "cell_type": "code",
   "execution_count": 91,
   "id": "50e867c3",
   "metadata": {},
   "outputs": [],
   "source": [
    "for f in os.listdir():\n",
    "    file_name, file_ext = os.path.splitext(f) \n",
    "    \n",
    "    f_title, f_course, f_num = file_name.split('-')\n",
    "    \n",
    "    f_title = f_title.strip()\n",
    "    f_course = f_course.strip()\n",
    "    f_num = f_num.strip()[1:].zfill(2)\n",
    "    \n",
    "    new_name = ('{}-{}{}'.format(f_num, f_title, f_ext))\n",
    "    \n",
    "    os.rename(f, new_name)"
   ]
  },
  {
   "cell_type": "code",
   "execution_count": 92,
   "id": "182e2cc9",
   "metadata": {},
   "outputs": [
    {
     "name": "stdout",
     "output_type": "stream",
     "text": [
      "01-The Sun.txt\n",
      "02-Mercury.txt\n",
      "03-Venus.txt\n",
      "05-Mars.txt\n",
      "07-Saturn.txt\n",
      "08-Neptune.txt\n",
      "09-Uranus.txt\n",
      "10-Pluto.txt\n"
     ]
    }
   ],
   "source": [
    "for f in os.listdir():\n",
    "    print (f)"
   ]
  },
  {
   "cell_type": "code",
   "execution_count": null,
   "id": "d0652de0",
   "metadata": {},
   "outputs": [],
   "source": []
  }
 ],
 "metadata": {
  "kernelspec": {
   "display_name": "Python 3",
   "language": "python",
   "name": "python3"
  },
  "language_info": {
   "codemirror_mode": {
    "name": "ipython",
    "version": 3
   },
   "file_extension": ".py",
   "mimetype": "text/x-python",
   "name": "python",
   "nbconvert_exporter": "python",
   "pygments_lexer": "ipython3",
   "version": "3.8.8"
  }
 },
 "nbformat": 4,
 "nbformat_minor": 5
}
